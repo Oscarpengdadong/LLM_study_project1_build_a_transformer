{
  "cells": [
    {
      "cell_type": "markdown",
      "metadata": {
        "id": "c0NPsL_mmmoU"
      },
      "source": [
        "self-attention, numpy method:"
      ]
    },
    {
      "cell_type": "code",
      "execution_count": 11,
      "metadata": {
        "id": "0QjpD8mGRj-G"
      },
      "outputs": [],
      "source": [
        "import numpy as np\n",
        "\n",
        "def compute_qkv(X, W_q, W_k, W_v):\n",
        "\tQ = X @ W_q\n",
        "\tK = X @ W_k\n",
        "\tV = X @ W_v\n",
        "\treturn Q, K, V\n",
        "\n",
        "def self_attention(Q, K, V):\n",
        "\tdim_K = K.shape[-1]\n",
        "\tscores = (Q @ K.T)/np.sqrt(dim_K)\n",
        "\tmax_scores = np.max(scores, axis = -1, keepdims = True)\n",
        "\tnew_scores = scores - max_scores\n",
        "\tattention_weights = np.exp(new_scores) / np.sum(np.exp(new_scores),axis = -1, keepdims = True)\n",
        "\tattention_output = attention_weights @ V\n",
        "\treturn attention_output"
      ]
    },
    {
      "cell_type": "markdown",
      "metadata": {
        "id": "mLQK6tnntSo4"
      },
      "source": [
        "self-attention, pytorch method:"
      ]
    },
    {
      "cell_type": "code",
      "execution_count": 5,
      "metadata": {
        "id": "j3DzSNLbtbll"
      },
      "outputs": [],
      "source": [
        "import torch\n",
        "import torch.nn as nn\n",
        "import torch.nn.functional as F\n",
        "\n",
        "class SelfAttention(nn.Module):\n",
        "  def __init__(self, embed_dim):\n",
        "    super().__init__()\n",
        "    self.embedding_dim = embed_dim\n",
        "    self.get_q = nn.Linear(embed_dim, embed_dim, bias= False)\n",
        "    self.get_k = nn.Linear(embed_dim, embed_dim, bias= False)\n",
        "    self.get_v = nn.Linear(embed_dim, embed_dim, bias= False)\n",
        "\n",
        "  def forward(self, x, mask= False):  # x.shape is [B,s,e] B: batch size, s: sequence length, e: embedding size\n",
        "    Q = self.get_q(x)\n",
        "    K = self.get_k(x) # dim K is in each batch the embedding size = self.embedding_dim\n",
        "    V = self.get_v(x) # has shape [B,s,e]\n",
        "    attention_scores = torch.matmul(Q,K.transpose(-2,-1))/(self.embedding_dim**(-0.5))\n",
        "    max_scores = torch.max(attention_scores, dim =-1, keepdim= True)[0] # get max value of each row, not indices\n",
        "    new_scores = attention_scores - max_scores # torch will auto expand dim so every entry in a row - max value, and in softmax exp(negative value) won't be huge\n",
        "    attention_weights = torch.softmax(new_scores, dim =-1) # has shape [B,s,s]\n",
        "    attention_output = torch.matmul(attention_weights, V) # out put has same dim as x\n",
        "    return attention_output\n",
        "\n",
        "\n",
        "\n"
      ]
    },
    {
      "cell_type": "code",
      "execution_count": 6,
      "metadata": {
        "colab": {
          "base_uri": "https://localhost:8080/"
        },
        "id": "RdBxQowLtcEg",
        "outputId": "37a6eb6d-21e2-45df-8e7e-a8c5f54a8e7e"
      },
      "outputs": [
        {
          "name": "stdout",
          "output_type": "stream",
          "text": [
            "output shape: torch.Size([2, 5, 16])\n",
            "attention weights for sample 0:\n",
            " tensor([[ 0.4882, -0.1974,  0.4953,  0.0751,  0.3127, -0.0228, -0.0331,  0.3205,\n",
            "         -0.1828,  0.3713, -0.3189, -0.0096, -0.2000,  0.1807,  0.4232,  0.1530],\n",
            "        [ 0.5012,  0.0043, -0.5890, -0.1467, -0.4039, -0.6152, -0.8488,  0.2181,\n",
            "         -1.1083, -0.2581,  1.3502,  0.3465, -0.9484, -0.3295,  0.2146, -0.1683],\n",
            "        [ 0.6680, -0.3255,  0.2919,  0.0046,  0.2490, -0.2500, -0.0585,  0.1657,\n",
            "          0.0210,  0.3828, -0.3388,  0.0551, -0.1739, -0.0188,  0.2955,  0.2897],\n",
            "        [-0.0268,  0.1069,  1.0452,  0.2255,  0.4878,  0.6085, -0.0106,  0.7298,\n",
            "         -0.7010,  0.3331, -0.2881, -0.1790, -0.3185,  0.7287,  0.7232, -0.2406],\n",
            "        [-0.2968, -0.5228,  0.5184, -0.4663,  0.2590,  0.4869, -0.9638,  0.4480,\n",
            "         -0.3621,  0.0240, -0.0476,  0.0554, -1.2374,  0.4955, -0.1072, -0.5704]],\n",
            "       grad_fn=<SelectBackward0>)\n"
          ]
        }
      ],
      "source": [
        "# --- 2) Create a dummy batch of embeddings ---\n",
        "B, T, C = 2, 5, 16           # batch size 2, sequence length 5, embed dim 16\n",
        "x = torch.randn(B, T, C)     # random input\n",
        "\n",
        "# --- 3) Instantiate and run ---\n",
        "attn_layer = SelfAttention(embed_dim=C)\n",
        "output = attn_layer(x)\n",
        "\n",
        "print(\"output shape:\", output.shape)   # → torch.Size([2, 5, 16])\n",
        "\n",
        "# --- 4) (Optional) Visualize one attention matrix ---\n",
        "print(\"attention weights for sample 0:\\n\", output[0])"
      ]
    }
  ],
  "metadata": {
    "colab": {
      "provenance": []
    },
    "kernelspec": {
      "display_name": "Python 3",
      "name": "python3"
    },
    "language_info": {
      "name": "python"
    }
  },
  "nbformat": 4,
  "nbformat_minor": 0
}
